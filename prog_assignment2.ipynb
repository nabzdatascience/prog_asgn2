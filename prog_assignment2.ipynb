{
 "cells": [
  {
   "cell_type": "code",
   "execution_count": 2,
   "id": "bd5b4086",
   "metadata": {},
   "outputs": [
    {
     "name": "stdout",
     "output_type": "stream",
     "text": [
      "Enter the value in kilimeters:10\n",
      "The number of miles=  6.21371\n"
     ]
    }
   ],
   "source": [
    "#Ans 1:\n",
    "x=float(input(\"Enter the value in kilometers:\"))\n",
    "miles=0.621371*x\n",
    "print(\"The number of miles= \", miles)\n"
   ]
  },
  {
   "cell_type": "code",
   "execution_count": 2,
   "id": "f1960b28",
   "metadata": {},
   "outputs": [
    {
     "name": "stdout",
     "output_type": "stream",
     "text": [
      "Enter the value in celcius:17\n",
      "value in fahrenheit 62.6\n"
     ]
    }
   ],
   "source": [
    "#Ans2:\n",
    "c=float(input(\"Enter the value in celcius:\"))\n",
    "f=(c*1.8)+32\n",
    "print(\"value in fahrenheit\",f)"
   ]
  },
  {
   "cell_type": "code",
   "execution_count": 2,
   "id": "5096eb1f",
   "metadata": {},
   "outputs": [
    {
     "name": "stdout",
     "output_type": "stream",
     "text": [
      "Enter the year: 2022\n",
      "                                  2022\n",
      "\n",
      "      January                   February                   March\n",
      "Mo Tu We Th Fr Sa Su      Mo Tu We Th Fr Sa Su      Mo Tu We Th Fr Sa Su\n",
      "                1  2          1  2  3  4  5  6          1  2  3  4  5  6\n",
      " 3  4  5  6  7  8  9       7  8  9 10 11 12 13       7  8  9 10 11 12 13\n",
      "10 11 12 13 14 15 16      14 15 16 17 18 19 20      14 15 16 17 18 19 20\n",
      "17 18 19 20 21 22 23      21 22 23 24 25 26 27      21 22 23 24 25 26 27\n",
      "24 25 26 27 28 29 30      28                        28 29 30 31\n",
      "31\n",
      "\n",
      "       April                      May                       June\n",
      "Mo Tu We Th Fr Sa Su      Mo Tu We Th Fr Sa Su      Mo Tu We Th Fr Sa Su\n",
      "             1  2  3                         1             1  2  3  4  5\n",
      " 4  5  6  7  8  9 10       2  3  4  5  6  7  8       6  7  8  9 10 11 12\n",
      "11 12 13 14 15 16 17       9 10 11 12 13 14 15      13 14 15 16 17 18 19\n",
      "18 19 20 21 22 23 24      16 17 18 19 20 21 22      20 21 22 23 24 25 26\n",
      "25 26 27 28 29 30         23 24 25 26 27 28 29      27 28 29 30\n",
      "                          30 31\n",
      "\n",
      "        July                     August                  September\n",
      "Mo Tu We Th Fr Sa Su      Mo Tu We Th Fr Sa Su      Mo Tu We Th Fr Sa Su\n",
      "             1  2  3       1  2  3  4  5  6  7                1  2  3  4\n",
      " 4  5  6  7  8  9 10       8  9 10 11 12 13 14       5  6  7  8  9 10 11\n",
      "11 12 13 14 15 16 17      15 16 17 18 19 20 21      12 13 14 15 16 17 18\n",
      "18 19 20 21 22 23 24      22 23 24 25 26 27 28      19 20 21 22 23 24 25\n",
      "25 26 27 28 29 30 31      29 30 31                  26 27 28 29 30\n",
      "\n",
      "      October                   November                  December\n",
      "Mo Tu We Th Fr Sa Su      Mo Tu We Th Fr Sa Su      Mo Tu We Th Fr Sa Su\n",
      "                1  2          1  2  3  4  5  6                1  2  3  4\n",
      " 3  4  5  6  7  8  9       7  8  9 10 11 12 13       5  6  7  8  9 10 11\n",
      "10 11 12 13 14 15 16      14 15 16 17 18 19 20      12 13 14 15 16 17 18\n",
      "17 18 19 20 21 22 23      21 22 23 24 25 26 27      19 20 21 22 23 24 25\n",
      "24 25 26 27 28 29 30      28 29 30                  26 27 28 29 30 31\n",
      "31\n",
      "\n"
     ]
    }
   ],
   "source": [
    "#Ans 3:\n",
    "import calendar\n",
    "year=int(input(\"Enter the year: \"))\n",
    "print(calendar.calendar(year))"
   ]
  },
  {
   "cell_type": "code",
   "execution_count": 5,
   "id": "c5357c89",
   "metadata": {},
   "outputs": [
    {
     "name": "stdout",
     "output_type": "stream",
     "text": [
      "The roots are: (-4.302775637731995+0j) (-0.6972243622680054+0j)\n"
     ]
    }
   ],
   "source": [
    "#Ans 4:\n",
    "import cmath\n",
    "  \n",
    "x = 1\n",
    "y = 5\n",
    "z = 3\n",
    "  \n",
    "\n",
    "h = (y**2) - (4 * x*z)\n",
    "  \n",
    "\n",
    "a1 = (-y-cmath.sqrt(h))/(2 * x)\n",
    "a2 = (-y + cmath.sqrt(h))/(2 * x)\n",
    "  \n",
    "\n",
    "print('The roots are:',a1,a2)\n"
   ]
  },
  {
   "cell_type": "code",
   "execution_count": 1,
   "id": "c73998e8",
   "metadata": {},
   "outputs": [
    {
     "name": "stdout",
     "output_type": "stream",
     "text": [
      "Enter the value of x: 78\n",
      "Enter the value of y: 79\n",
      "Original value of x is 78 and y is 79\n",
      "New value of x is 79 and y is 78\n"
     ]
    }
   ],
   "source": [
    "#Ans 5\n",
    "x = int(input(\"Enter the value of x: \"))\n",
    "y= int(input(\"Enter the value of y: \"))\n",
    "\n",
    "print('Original value of x is {} and y is {}'.format(x, y))\n",
    "\n",
    "x = x + y\n",
    "y = x - y\n",
    "x = x - y\n",
    "\n",
    "print('New value of x is {} and y is {}'.format(x, y))"
   ]
  }
 ],
 "metadata": {
  "kernelspec": {
   "display_name": "Python 3 (ipykernel)",
   "language": "python",
   "name": "python3"
  },
  "language_info": {
   "codemirror_mode": {
    "name": "ipython",
    "version": 3
   },
   "file_extension": ".py",
   "mimetype": "text/x-python",
   "name": "python",
   "nbconvert_exporter": "python",
   "pygments_lexer": "ipython3",
   "version": "3.9.7"
  }
 },
 "nbformat": 4,
 "nbformat_minor": 5
}
